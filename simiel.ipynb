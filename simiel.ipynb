{
 "cells": [
  {
   "cell_type": "code",
   "execution_count": 1,
   "id": "648070ee",
   "metadata": {},
   "outputs": [
    {
     "ename": "NameError",
     "evalue": "name 't' is not defined",
     "output_type": "error",
     "traceback": [
      "\u001b[1;31m---------------------------------------------------------------------------\u001b[0m",
      "\u001b[1;31mNameError\u001b[0m                                 Traceback (most recent call last)",
      "\u001b[1;32m<ipython-input-1-75f29f6f4534>\u001b[0m in \u001b[0;36m<module>\u001b[1;34m\u001b[0m\n\u001b[0;32m     16\u001b[0m \u001b[1;31m# plt.hold(True)\u001b[0m\u001b[1;33m\u001b[0m\u001b[1;33m\u001b[0m\u001b[1;33m\u001b[0m\u001b[0m\n\u001b[0;32m     17\u001b[0m \u001b[1;33m\u001b[0m\u001b[0m\n\u001b[1;32m---> 18\u001b[1;33m \u001b[1;32mwhile\u001b[0m\u001b[1;33m(\u001b[0m\u001b[0mt\u001b[0m\u001b[1;33m<=\u001b[0m\u001b[1;36m20\u001b[0m\u001b[1;33m)\u001b[0m\u001b[1;33m:\u001b[0m\u001b[1;33m\u001b[0m\u001b[1;33m\u001b[0m\u001b[0m\n\u001b[0m\u001b[0;32m     19\u001b[0m     \u001b[0mk1\u001b[0m \u001b[1;33m=\u001b[0m \u001b[0mh\u001b[0m\u001b[1;33m*\u001b[0m\u001b[0msat\u001b[0m\u001b[1;33m(\u001b[0m\u001b[0mX\u001b[0m\u001b[1;33m)\u001b[0m\u001b[1;33m\u001b[0m\u001b[1;33m\u001b[0m\u001b[0m\n\u001b[0;32m     20\u001b[0m     \u001b[0mk2\u001b[0m \u001b[1;33m=\u001b[0m \u001b[0mh\u001b[0m\u001b[1;33m*\u001b[0m\u001b[0msat\u001b[0m\u001b[1;33m(\u001b[0m\u001b[0mX\u001b[0m \u001b[1;33m+\u001b[0m \u001b[0mk1\u001b[0m\u001b[1;33m/\u001b[0m\u001b[1;36m3\u001b[0m\u001b[1;33m)\u001b[0m\u001b[1;33m\u001b[0m\u001b[1;33m\u001b[0m\u001b[0m\n",
      "\u001b[1;31mNameError\u001b[0m: name 't' is not defined"
     ]
    },
    {
     "data": {
      "image/png": "[encoded data removed]",
      "text/plain": [
       "<Figure size 432x288 with 1 Axes>"
      ]
     },
     "metadata": {
      "needs_background": "light"
     },
     "output_type": "display_data"
    }
   ],
   "source": [
    "# Please, this is what I want you to help me debug\n",
    "import numpy as np\n",
    "import matplotlib.pyplot as plt\n",
    "\n",
    "v = 2.01346544\n",
    "X = [0.944, 0.0, 0.0, v]\n",
    "tol = 1e-16\n",
    "\n",
    "mu = 0.01215400111\n",
    "x1 = -mu\n",
    "x2 = 1-mu\n",
    "\n",
    "plt.plot(x2, 0,  marker='o', markersize=10, color='blue', label='moon')\n",
    "plt.plot(x1, 0, marker='o', markersize=20, color='green', label='earth')\n",
    "plt.legend()\n",
    "# plt.hold(True)\n",
    "\n",
    "while(t<=20):\n",
    "    k1 = h*sat(X)\n",
    "    k2 = h*sat(X + k1/3)\n",
    "    k3 = h*sat(X + k1/6 + k2/6)\n",
    "    k4 = h*sat(X + k1/8 + 3*k3/8)\n",
    "    k5 = h*sat(X + k1/2 - 3*k3/2 - 2*k4 )\n",
    "    \n",
    "    xn = X + k1/6 + 2*k4/3 + k5/6\n",
    "    yn = X + k1/2 - 3*k3/2 + 2*k4\n",
    "    \n",
    "    K = max(abs(xn - yn))\n",
    "    \n",
    "    if(K<=tol):\n",
    "        X = yn\n",
    "        \n",
    "        figure(1);\n",
    "        plot(X(1), X(2), 'r')\n",
    "#         plt.hold(True)\n",
    "        \n",
    "        t = t + h\n",
    "        h = h*(tol/K)**(1/6)\n",
    "        \n",
    "    else:\n",
    "        h = h*(tol/K)**(1/6)\n",
    "\n",
    "def sat(X):\n",
    "    mu = 0.012277471\n",
    "    re = sqrt((X[0] + mu)**2 + X[1]**2)\n",
    "    rm = sqrt((X[0] - 1 + mu)^2 + X[1]**2)\n",
    "    f = np.zeros(4)\n",
    "    f[0] = X[2]\n",
    "    f[1] = X[3]\n",
    "    f[2] = X[0] + 2*X[3] - (1 - mu)*(X[0] + mu)/re**3 - mu*(X[0] - 1 + mu)/rm**3\n",
    "    f[3] = X[1] - 2*X[2] - (1 - mu)*X[1]/re**3 - mu*X[1]/rm**3\n",
    "    \n",
    "    return f\n",
    "    "
   ]
  }
 ],
 "metadata": {
  "kernelspec": {
   "display_name": "Python 3",
   "language": "python",
   "name": "python3"
  },
  "language_info": {
   "codemirror_mode": {
    "name": "ipython",
    "version": 3
   },
   "file_extension": ".py",
   "mimetype": "text/x-python",
   "name": "python",
   "nbconvert_exporter": "python",
   "pygments_lexer": "ipython3",
   "version": "3.8.8"
  }
 },
 "nbformat": 4,
 "nbformat_minor": 5
}
