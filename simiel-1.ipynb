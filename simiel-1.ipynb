{
 "cells": [
  {
   "cell_type": "code",
   "execution_count": null,
   "id": "73f7acbe",
   "metadata": {},
   "outputs": [
    {
     "name": "stderr",
     "output_type": "stream",
     "text": [
      "<ipython-input-9-da8cf88321e8>:53: RuntimeWarning: divide by zero encountered in double_scalars\n",
      "  h = h*(tol/K)**(1/6)\n",
      "<ipython-input-9-da8cf88321e8>:27: RuntimeWarning: invalid value encountered in double_scalars\n",
      "  f[2] = X[0] + 2*X[3] - (1 - mu)*(X[0] + mu)/re**3 - mu*(X[0] - 1 + mu)/rm**3\n",
      "<ipython-input-9-da8cf88321e8>:28: RuntimeWarning: invalid value encountered in double_scalars\n",
      "  f[3] = X[1] - 2*X[2] - (1 - mu)*X[1]/re**3 - mu*X[1]/rm**3\n",
      "<ipython-input-9-da8cf88321e8>:36: RuntimeWarning: invalid value encountered in add\n",
      "  k3 = h*sat(X + k1/6 + k2/6)\n"
     ]
    }
   ],
   "source": [
    "# Please, this is what I want you to help me debug\n",
    "import numpy as np\n",
    "import matplotlib.pyplot as plt\n",
    "\n",
    "v = 2.01346544\n",
    "X = [0.944, 0.0, 0.0, v]\n",
    "tol = 1e-16\n",
    "t = 0\n",
    "h = 0.5\n",
    "\n",
    "mu = 0.01215400111\n",
    "x1 = -mu\n",
    "x2 = 1-mu\n",
    "\n",
    "plt.plot(x2, 0,  marker='o', markersize=10, color='blue', label='moon')\n",
    "plt.plot(x1, 0, marker='o', markersize=20, color='green', label='earth')\n",
    "plt.legend()\n",
    "# plt.hold(True)\n",
    "\n",
    "def sat(X):\n",
    "    mu = 0.012277471\n",
    "    re = np.sqrt((X[0] + mu)**2 + X[1]**2)\n",
    "    rm = np.sqrt((X[0] - 1 + mu)**2 + X[1]**2)\n",
    "    f = np.zeros(4)\n",
    "    f[0] = X[2]\n",
    "    f[1] = X[3]\n",
    "    f[2] = X[0] + 2*X[3] - (1 - mu)*(X[0] + mu)/re**3 - mu*(X[0] - 1 + mu)/rm**3\n",
    "    f[3] = X[1] - 2*X[2] - (1 - mu)*X[1]/re**3 - mu*X[1]/rm**3\n",
    "    \n",
    "    return f\n",
    "    \n",
    "\n",
    "while(t<=20):\n",
    "    k1 = h*sat(X)\n",
    "    k2 = h*sat(X + k1/3)\n",
    "    k3 = h*sat(X + k1/6 + k2/6)\n",
    "    k4 = h*sat(X + k1/8 + 3*k3/8)\n",
    "    k5 = h*sat(X + k1/2 - 3*k3/2 - 2*k4 )\n",
    "    \n",
    "    xn = X + k1/6 + 2*k4/3 + k5/6\n",
    "    yn = X + k1/2 - 3*k3/2 + 2*k4\n",
    "    \n",
    "    K = max(abs(xn - yn))\n",
    "    \n",
    "    if(K<=tol):\n",
    "        X = yn\n",
    "        \n",
    "       # figure(1);\n",
    "        plt.plot(X[0], X[1], 'r')\n",
    "#         plt.hold(True)\n",
    "        \n",
    "        t = t + h\n",
    "        h = h*(tol/K)**(1/6)\n",
    "        \n",
    "    else:\n",
    "        h = h*(tol/K)**(1/6)\n",
    "\n"
   ]
  },
  {
   "cell_type": "code",
   "execution_count": null,
   "id": "72417470",
   "metadata": {},
   "outputs": [],
   "source": []
  }
 ],
 "metadata": {
  "kernelspec": {
   "display_name": "Python 3",
   "language": "python",
   "name": "python3"
  },
  "language_info": {
   "codemirror_mode": {
    "name": "ipython",
    "version": 3
   },
   "file_extension": ".py",
   "mimetype": "text/x-python",
   "name": "python",
   "nbconvert_exporter": "python",
   "pygments_lexer": "ipython3",
   "version": "3.8.8"
  }
 },
 "nbformat": 4,
 "nbformat_minor": 5
}
